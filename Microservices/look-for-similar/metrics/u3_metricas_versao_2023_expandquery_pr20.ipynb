{
 "cells": [
  {
   "cell_type": "markdown",
   "id": "328270c9",
   "metadata": {},
   "source": [
    "# Avaliação U3 v2023 (pouco relevantes com peso 0,2)"
   ]
  },
  {
   "cell_type": "code",
   "execution_count": 1,
   "id": "d60165c6",
   "metadata": {
    "tags": []
   },
   "outputs": [],
   "source": [
    " # Importa bibliotecas\n",
    "import numpy as np\n",
    "import pandas as pd\n",
    "import nltk\n",
    "import logging\n",
    "import re\n",
    "import os\n",
    "import gc\n",
    "from cryptography.fernet import Fernet # criptografia\n",
    "import base64 # para criptografia\n",
    "from bm25 import BM25L\n",
    "from preprocessing import preprocess\n",
    "import metrics_pr20 as metrics\n",
    "import warnings\n",
    "import copy\n",
    "import pymssql\n",
    "import getpass\n",
    "import requests\n",
    "import json"
   ]
  },
  {
   "cell_type": "code",
   "execution_count": 2,
   "id": "af35cab7",
   "metadata": {},
   "outputs": [
    {
     "name": "stdout",
     "output_type": "stream",
     "text": [
      "Chave criptográfica········\n"
     ]
    }
   ],
   "source": [
    "crypt_key = os.getenv('CRYPT_KEY_SOLIC_TRAB')\n",
    "if crypt_key is None:\n",
    "    crypt_key = getpass.getpass('Chave criptográfica')"
   ]
  },
  {
   "cell_type": "code",
   "execution_count": 3,
   "id": "ac410ca3",
   "metadata": {
    "tags": []
   },
   "outputs": [
    {
     "name": "stderr",
     "output_type": "stream",
     "text": [
      "[nltk_data] Downloading package stopwords to\n",
      "[nltk_data]     C:\\Users\\p_7178\\AppData\\Roaming\\nltk_data...\n",
      "[nltk_data]   Package stopwords is already up-to-date!\n",
      "[nltk_data] Downloading package punkt to\n",
      "[nltk_data]     C:\\Users\\p_7178\\AppData\\Roaming\\nltk_data...\n",
      "[nltk_data]   Package punkt is already up-to-date!\n"
     ]
    },
    {
     "data": {
      "text/plain": [
       "True"
      ]
     },
     "execution_count": 3,
     "metadata": {},
     "output_type": "execute_result"
    }
   ],
   "source": [
    "# NLTK\n",
    "logging.info('')\n",
    "logging.info('Downloading NLTK...')\n",
    "nltk.download('stopwords')\n",
    "nltk.download('punkt')"
   ]
  },
  {
   "cell_type": "code",
   "execution_count": 4,
   "id": "e8ca4acc",
   "metadata": {
    "scrolled": true,
    "tags": []
   },
   "outputs": [
    {
     "name": "stdout",
     "output_type": "stream",
     "text": [
      "(703, 3)\n"
     ]
    },
    {
     "data": {
      "text/html": [
       "<div>\n",
       "<style scoped>\n",
       "    .dataframe tbody tr th:only-of-type {\n",
       "        vertical-align: middle;\n",
       "    }\n",
       "\n",
       "    .dataframe tbody tr th {\n",
       "        vertical-align: top;\n",
       "    }\n",
       "\n",
       "    .dataframe thead th {\n",
       "        text-align: right;\n",
       "    }\n",
       "</style>\n",
       "<table border=\"1\" class=\"dataframe\">\n",
       "  <thead>\n",
       "    <tr style=\"text-align: right;\">\n",
       "      <th></th>\n",
       "      <th>query</th>\n",
       "      <th>user_feedback</th>\n",
       "      <th>extra_results</th>\n",
       "    </tr>\n",
       "  </thead>\n",
       "  <tbody>\n",
       "    <tr>\n",
       "      <th>0</th>\n",
       "      <td>Solicito projeto de lei para dispensar Guia de...</td>\n",
       "      <td>[{\"id\": \"PL 3650/2021\", \"class\": \"r\", \"score\":...</td>\n",
       "      <td>[\"PL 7264/2014\"]</td>\n",
       "    </tr>\n",
       "    <tr>\n",
       "      <th>1</th>\n",
       "      <td>Solicito alterar a Lei 12.249 de 11 de junho d...</td>\n",
       "      <td>[{\"id\": \"PL 1158/2022\", \"class\": \"pr\", \"score\"...</td>\n",
       "      <td>NaN</td>\n",
       "    </tr>\n",
       "    <tr>\n",
       "      <th>2</th>\n",
       "      <td>Requeiro à Consultoria projeto para que 20% da...</td>\n",
       "      <td>[{\"id\": \"INC 2833/2012\", \"class\": \"i\", \"score\"...</td>\n",
       "      <td>[\"1968/2020\", \"795/2020\", \"10378/2017\", \"PEC 3...</td>\n",
       "    </tr>\n",
       "    <tr>\n",
       "      <th>3</th>\n",
       "      <td>Solicito à douta conle proposta para aumentar ...</td>\n",
       "      <td>[{\"id\": \"PEC 340/2013\", \"class\": \"i\", \"score\":...</td>\n",
       "      <td>[\"12324/2019\", \"2884/2019\", \"1206/2019\", \"7303...</td>\n",
       "    </tr>\n",
       "    <tr>\n",
       "      <th>4</th>\n",
       "      <td>Criação de fundo para dar assistência às pesso...</td>\n",
       "      <td>[{\"id\": \"PL 1434/2003\", \"class\": \"r\", \"score\":...</td>\n",
       "      <td>[\"12680/2019\", \"10404/2008\", \"PL 431/2020\", \"P...</td>\n",
       "    </tr>\n",
       "    <tr>\n",
       "      <th>...</th>\n",
       "      <td>...</td>\n",
       "      <td>...</td>\n",
       "      <td>...</td>\n",
       "    </tr>\n",
       "    <tr>\n",
       "      <th>698</th>\n",
       "      <td>ACIDENTE DE TRABALHO POR COVID PROFISSIONAIS D...</td>\n",
       "      <td>[{\"id\": \"PL 1612/2020\", \"class\": \"r\", \"score\":...</td>\n",
       "      <td>[\"8371/2020\", \"5354/2020\", \"4454/2020\", \"4006/...</td>\n",
       "    </tr>\n",
       "    <tr>\n",
       "      <th>699</th>\n",
       "      <td>PENSÃO ESPECIAL ÓRFÃOS COVID</td>\n",
       "      <td>[{\"id\": \"PL 2544/2021\", \"class\": \"r\", \"score\":...</td>\n",
       "      <td>[\"15858/2021\", \"6095/2021\", \"5089/2021\", \"3739...</td>\n",
       "    </tr>\n",
       "    <tr>\n",
       "      <th>700</th>\n",
       "      <td>PENSÃO ESPECIAL LGBT\\n</td>\n",
       "      <td>[{\"id\": \"PL 2200/2020\", \"class\": \"i\", \"score\":...</td>\n",
       "      <td>[\"6888/2020\", \"2153/2019\", \"888/2018\", \"PL 52/...</td>\n",
       "    </tr>\n",
       "    <tr>\n",
       "      <th>701</th>\n",
       "      <td>PRORROGAÇÃO ESTADO DE EMERGÊNCIA COVID</td>\n",
       "      <td>[{\"id\": \"INC 6112/2014\", \"class\": \"i\", \"score\"...</td>\n",
       "      <td>[\"2169/2021\", \"12210/2020\", \"9470/2020\", \"8129...</td>\n",
       "    </tr>\n",
       "    <tr>\n",
       "      <th>702</th>\n",
       "      <td>SEGURO-DEFESO DEPENDENTES DE PESCADORES ARTESA...</td>\n",
       "      <td>[{\"id\": \"INC 1499/2019\", \"class\": \"r\", \"score\"...</td>\n",
       "      <td>[\"15407/2021\", \"20501/2019\", \"1514/2019\", \"103...</td>\n",
       "    </tr>\n",
       "  </tbody>\n",
       "</table>\n",
       "<p>703 rows × 3 columns</p>\n",
       "</div>"
      ],
      "text/plain": [
       "                                                 query  \\\n",
       "0    Solicito projeto de lei para dispensar Guia de...   \n",
       "1    Solicito alterar a Lei 12.249 de 11 de junho d...   \n",
       "2    Requeiro à Consultoria projeto para que 20% da...   \n",
       "3    Solicito à douta conle proposta para aumentar ...   \n",
       "4    Criação de fundo para dar assistência às pesso...   \n",
       "..                                                 ...   \n",
       "698  ACIDENTE DE TRABALHO POR COVID PROFISSIONAIS D...   \n",
       "699                       PENSÃO ESPECIAL ÓRFÃOS COVID   \n",
       "700                             PENSÃO ESPECIAL LGBT\\n   \n",
       "701             PRORROGAÇÃO ESTADO DE EMERGÊNCIA COVID   \n",
       "702  SEGURO-DEFESO DEPENDENTES DE PESCADORES ARTESA...   \n",
       "\n",
       "                                         user_feedback  \\\n",
       "0    [{\"id\": \"PL 3650/2021\", \"class\": \"r\", \"score\":...   \n",
       "1    [{\"id\": \"PL 1158/2022\", \"class\": \"pr\", \"score\"...   \n",
       "2    [{\"id\": \"INC 2833/2012\", \"class\": \"i\", \"score\"...   \n",
       "3    [{\"id\": \"PEC 340/2013\", \"class\": \"i\", \"score\":...   \n",
       "4    [{\"id\": \"PL 1434/2003\", \"class\": \"r\", \"score\":...   \n",
       "..                                                 ...   \n",
       "698  [{\"id\": \"PL 1612/2020\", \"class\": \"r\", \"score\":...   \n",
       "699  [{\"id\": \"PL 2544/2021\", \"class\": \"r\", \"score\":...   \n",
       "700  [{\"id\": \"PL 2200/2020\", \"class\": \"i\", \"score\":...   \n",
       "701  [{\"id\": \"INC 6112/2014\", \"class\": \"i\", \"score\"...   \n",
       "702  [{\"id\": \"INC 1499/2019\", \"class\": \"r\", \"score\"...   \n",
       "\n",
       "                                         extra_results  \n",
       "0                                     [\"PL 7264/2014\"]  \n",
       "1                                                  NaN  \n",
       "2    [\"1968/2020\", \"795/2020\", \"10378/2017\", \"PEC 3...  \n",
       "3    [\"12324/2019\", \"2884/2019\", \"1206/2019\", \"7303...  \n",
       "4    [\"12680/2019\", \"10404/2008\", \"PL 431/2020\", \"P...  \n",
       "..                                                 ...  \n",
       "698  [\"8371/2020\", \"5354/2020\", \"4454/2020\", \"4006/...  \n",
       "699  [\"15858/2021\", \"6095/2021\", \"5089/2021\", \"3739...  \n",
       "700  [\"6888/2020\", \"2153/2019\", \"888/2018\", \"PL 52/...  \n",
       "701  [\"2169/2021\", \"12210/2020\", \"9470/2020\", \"8129...  \n",
       "702  [\"15407/2021\", \"20501/2019\", \"1514/2019\", \"103...  \n",
       "\n",
       "[703 rows x 3 columns]"
      ]
     },
     "execution_count": 4,
     "metadata": {},
     "output_type": "execute_result"
    }
   ],
   "source": [
    "###################\n",
    "# Carga dos dados #\n",
    "###################\n",
    "\n",
    "# Feedbacks\n",
    "logging.info('')\n",
    "logging.info('Lendo base de queries e feedbacks...')\n",
    "\n",
    "queries_fb = pd.read_csv('../data/usp_feedback_20220714_com_ponto.csv', usecols=['query', 'user_feedback', 'extra_results'])\n",
    "print(queries_fb.shape)\n",
    "queries_fb                                                                 "
   ]
  },
  {
   "cell_type": "code",
   "execution_count": 5,
   "id": "30787844",
   "metadata": {
    "tags": []
   },
   "outputs": [
    {
     "name": "stdout",
     "output_type": "stream",
     "text": [
      "Senha SqlPro········\n"
     ]
    },
    {
     "name": "stderr",
     "output_type": "stream",
     "text": [
      "C:\\Users\\p_7178\\AppData\\Local\\Temp\\ipykernel_8376\\4174796175.py:11: UserWarning: pandas only supports SQLAlchemy connectable (engine/connection) or database string URI or sqlite3 DBAPI2 connection. Other DBAPI2 objects are not tested. Please consider using SQLAlchemy.\n",
      "  base_proposicoes = pd.read_sql(SELECT_PROPOSICOES, sql_conn)\n"
     ]
    },
    {
     "name": "stdout",
     "output_type": "stream",
     "text": [
      "(107002, 3)\n"
     ]
    },
    {
     "data": {
      "text/html": [
       "<div>\n",
       "<style scoped>\n",
       "    .dataframe tbody tr th:only-of-type {\n",
       "        vertical-align: middle;\n",
       "    }\n",
       "\n",
       "    .dataframe tbody tr th {\n",
       "        vertical-align: top;\n",
       "    }\n",
       "\n",
       "    .dataframe thead th {\n",
       "        text-align: right;\n",
       "    }\n",
       "</style>\n",
       "<table border=\"1\" class=\"dataframe\">\n",
       "  <thead>\n",
       "    <tr style=\"text-align: right;\">\n",
       "      <th></th>\n",
       "      <th>code</th>\n",
       "      <th>name</th>\n",
       "      <th>text_preprocessed</th>\n",
       "    </tr>\n",
       "  </thead>\n",
       "  <tbody>\n",
       "    <tr>\n",
       "      <th>0</th>\n",
       "      <td>16357</td>\n",
       "      <td>PL 1165/1999</td>\n",
       "      <td>['ofici', '1416', 'sf', 'brasili', '17', 'julh...</td>\n",
       "    </tr>\n",
       "    <tr>\n",
       "      <th>1</th>\n",
       "      <td>19098</td>\n",
       "      <td>PL 3097/1992</td>\n",
       "      <td>['comissa', 'constituica', 'justic', 'redaca',...</td>\n",
       "    </tr>\n",
       "    <tr>\n",
       "      <th>2</th>\n",
       "      <td>20464</td>\n",
       "      <td>PL 3927/2000</td>\n",
       "      <td>['comissa', 'trabalh', 'administraca', 'servic...</td>\n",
       "    </tr>\n",
       "    <tr>\n",
       "      <th>3</th>\n",
       "      <td>20683</td>\n",
       "      <td>PL 4117/1998</td>\n",
       "      <td>['camar', 'deputad', 'departament', 'comisso',...</td>\n",
       "    </tr>\n",
       "    <tr>\n",
       "      <th>4</th>\n",
       "      <td>20857</td>\n",
       "      <td>PL 4395/1998</td>\n",
       "      <td>['1', 'comissa', 'constituica', 'justic', 'red...</td>\n",
       "    </tr>\n",
       "    <tr>\n",
       "      <th>...</th>\n",
       "      <td>...</td>\n",
       "      <td>...</td>\n",
       "      <td>...</td>\n",
       "    </tr>\n",
       "    <tr>\n",
       "      <th>106997</th>\n",
       "      <td>2329845</td>\n",
       "      <td>PL 1730/2022</td>\n",
       "      <td>['projet', 'lei', '2022', 'sr', 'gutemberg', '...</td>\n",
       "    </tr>\n",
       "    <tr>\n",
       "      <th>106998</th>\n",
       "      <td>2329846</td>\n",
       "      <td>PDL 260/2022</td>\n",
       "      <td>['camar', 'deputad', 'projet', 'decret', 'legi...</td>\n",
       "    </tr>\n",
       "    <tr>\n",
       "      <th>106999</th>\n",
       "      <td>2329849</td>\n",
       "      <td>INC 1449/2022</td>\n",
       "      <td>['requeriment', 'indicaca', '2022', 'sr', 'car...</td>\n",
       "    </tr>\n",
       "    <tr>\n",
       "      <th>107000</th>\n",
       "      <td>2329850</td>\n",
       "      <td>PL 1731/2022</td>\n",
       "      <td>['camar', 'deputad', 'projet', 'lei', 'no_____...</td>\n",
       "    </tr>\n",
       "    <tr>\n",
       "      <th>107001</th>\n",
       "      <td>2329852</td>\n",
       "      <td>INC 1450/2022</td>\n",
       "      <td>['requeriment', 'indicaca', '2022', 'sr', 'car...</td>\n",
       "    </tr>\n",
       "  </tbody>\n",
       "</table>\n",
       "<p>107002 rows × 3 columns</p>\n",
       "</div>"
      ],
      "text/plain": [
       "           code           name  \\\n",
       "0         16357   PL 1165/1999   \n",
       "1         19098   PL 3097/1992   \n",
       "2         20464   PL 3927/2000   \n",
       "3         20683   PL 4117/1998   \n",
       "4         20857   PL 4395/1998   \n",
       "...         ...            ...   \n",
       "106997  2329845   PL 1730/2022   \n",
       "106998  2329846   PDL 260/2022   \n",
       "106999  2329849  INC 1449/2022   \n",
       "107000  2329850   PL 1731/2022   \n",
       "107001  2329852  INC 1450/2022   \n",
       "\n",
       "                                        text_preprocessed  \n",
       "0       ['ofici', '1416', 'sf', 'brasili', '17', 'julh...  \n",
       "1       ['comissa', 'constituica', 'justic', 'redaca',...  \n",
       "2       ['comissa', 'trabalh', 'administraca', 'servic...  \n",
       "3       ['camar', 'deputad', 'departament', 'comisso',...  \n",
       "4       ['1', 'comissa', 'constituica', 'justic', 'red...  \n",
       "...                                                   ...  \n",
       "106997  ['projet', 'lei', '2022', 'sr', 'gutemberg', '...  \n",
       "106998  ['camar', 'deputad', 'projet', 'decret', 'legi...  \n",
       "106999  ['requeriment', 'indicaca', '2022', 'sr', 'car...  \n",
       "107000  ['camar', 'deputad', 'projet', 'lei', 'no_____...  \n",
       "107001  ['requeriment', 'indicaca', '2022', 'sr', 'car...  \n",
       "\n",
       "[107002 rows x 3 columns]"
      ]
     },
     "execution_count": 5,
     "metadata": {},
     "output_type": "execute_result"
    }
   ],
   "source": [
    "# Proposições\n",
    "logging.info('')\n",
    "logging.info('Lendo base de proposições...')\n",
    "\n",
    "sql_conn = pymssql.connect(DB_CONNECTION_STRING)\n",
    "\n",
    "SELECT_PROPOSICOES = 'SELECT code, name, text_preprocessed FROM Ulysses_U3_proposicao where code <= 2329852 ORDER BY code'\n",
    "base_proposicoes = pd.read_sql(SELECT_PROPOSICOES, sql_conn)\n",
    "print(base_proposicoes.shape)\n",
    "base_proposicoes"
   ]
  },
  {
   "cell_type": "code",
   "execution_count": 6,
   "id": "4b6bc43a",
   "metadata": {},
   "outputs": [],
   "source": [
    "if not os.path.isfile('../data/usp_corpus_20220714_inteiroteor_OCR.csv'):\n",
    "    base_proposicoes.to_csv('../data/usp_corpus_20220714_inteiroteor_OCR.csv', index=False)"
   ]
  },
  {
   "cell_type": "code",
   "execution_count": 7,
   "id": "738363bb",
   "metadata": {},
   "outputs": [
    {
     "data": {
      "text/html": [
       "<div>\n",
       "<style scoped>\n",
       "    .dataframe tbody tr th:only-of-type {\n",
       "        vertical-align: middle;\n",
       "    }\n",
       "\n",
       "    .dataframe tbody tr th {\n",
       "        vertical-align: top;\n",
       "    }\n",
       "\n",
       "    .dataframe thead th {\n",
       "        text-align: right;\n",
       "    }\n",
       "</style>\n",
       "<table border=\"1\" class=\"dataframe\">\n",
       "  <thead>\n",
       "    <tr style=\"text-align: right;\">\n",
       "      <th></th>\n",
       "      <th>code</th>\n",
       "      <th>name</th>\n",
       "      <th>text_preprocessed</th>\n",
       "    </tr>\n",
       "  </thead>\n",
       "  <tbody>\n",
       "    <tr>\n",
       "      <th>59875</th>\n",
       "      <td>605347</td>\n",
       "      <td>PL 4239/1958</td>\n",
       "      <td>['projet', 'n', '4', '239', '1958', 'defin', '...</td>\n",
       "    </tr>\n",
       "  </tbody>\n",
       "</table>\n",
       "</div>"
      ],
      "text/plain": [
       "         code          name                                  text_preprocessed\n",
       "59875  605347  PL 4239/1958  ['projet', 'n', '4', '239', '1958', 'defin', '..."
      ]
     },
     "execution_count": 7,
     "metadata": {},
     "output_type": "execute_result"
    }
   ],
   "source": [
    "base_proposicoes[base_proposicoes['code']==605347]"
   ]
  },
  {
   "cell_type": "code",
   "execution_count": 8,
   "id": "1ac44dc5",
   "metadata": {
    "tags": []
   },
   "outputs": [
    {
     "name": "stdout",
     "output_type": "stream",
     "text": [
      "(78579, 2)\n"
     ]
    },
    {
     "data": {
      "text/html": [
       "<div>\n",
       "<style scoped>\n",
       "    .dataframe tbody tr th:only-of-type {\n",
       "        vertical-align: middle;\n",
       "    }\n",
       "\n",
       "    .dataframe tbody tr th {\n",
       "        vertical-align: top;\n",
       "    }\n",
       "\n",
       "    .dataframe thead th {\n",
       "        text-align: right;\n",
       "    }\n",
       "</style>\n",
       "<table border=\"1\" class=\"dataframe\">\n",
       "  <thead>\n",
       "    <tr style=\"text-align: right;\">\n",
       "      <th></th>\n",
       "      <th>name</th>\n",
       "      <th>text_preprocessed</th>\n",
       "    </tr>\n",
       "  </thead>\n",
       "  <tbody>\n",
       "    <tr>\n",
       "      <th>0</th>\n",
       "      <td>8086/2022</td>\n",
       "      <td>Z0FBQUFBQmtTeWxNbEpBNS1sZ1Rwem9TQktDeEdMdEdGQ3...</td>\n",
       "    </tr>\n",
       "    <tr>\n",
       "      <th>1</th>\n",
       "      <td>8085/2022</td>\n",
       "      <td>Z0FBQUFBQmtTeWxNOTZZY19iYmtTMDNiWVFIRDNQa0w4eE...</td>\n",
       "    </tr>\n",
       "    <tr>\n",
       "      <th>2</th>\n",
       "      <td>8081/2022</td>\n",
       "      <td>Z0FBQUFBQmtTeWxNR3dLUUZ3SlgyWlZReE91cnhzanlSSz...</td>\n",
       "    </tr>\n",
       "    <tr>\n",
       "      <th>3</th>\n",
       "      <td>8079/2022</td>\n",
       "      <td>Z0FBQUFBQmtTeWxNdU1UUjBnek5WSFhrT2d2Q0xBQ3lpaU...</td>\n",
       "    </tr>\n",
       "    <tr>\n",
       "      <th>4</th>\n",
       "      <td>8078/2022</td>\n",
       "      <td>Z0FBQUFBQmtTeWxNV0tKcFNSTEVycUtNYVhLeU1yUk9xOW...</td>\n",
       "    </tr>\n",
       "    <tr>\n",
       "      <th>...</th>\n",
       "      <td>...</td>\n",
       "      <td>...</td>\n",
       "    </tr>\n",
       "    <tr>\n",
       "      <th>78574</th>\n",
       "      <td>11/2003</td>\n",
       "      <td>Z0FBQUFBQmtTeWxFalZLMFgzVk5BZERJTXJzSk9UZVpzeV...</td>\n",
       "    </tr>\n",
       "    <tr>\n",
       "      <th>78575</th>\n",
       "      <td>10/2003</td>\n",
       "      <td>Z0FBQUFBQmtTeWxFRUtseDlUSE15dEhxVF93SENXY0ZVTT...</td>\n",
       "    </tr>\n",
       "    <tr>\n",
       "      <th>78576</th>\n",
       "      <td>9/2003</td>\n",
       "      <td>Z0FBQUFBQmtTeWxFU3pZekx2dEF3ZkE5SFlhdDJEQzhMOW...</td>\n",
       "    </tr>\n",
       "    <tr>\n",
       "      <th>78577</th>\n",
       "      <td>5/2003</td>\n",
       "      <td>Z0FBQUFBQmtTeWxFY2JLVmdWYTE5anFqZm9ITktROWlYal...</td>\n",
       "    </tr>\n",
       "    <tr>\n",
       "      <th>78578</th>\n",
       "      <td>2/2003</td>\n",
       "      <td>Z0FBQUFBQmtTeWxFMlM2M3k3aDAwU3NMWmxJUUxfeFEySl...</td>\n",
       "    </tr>\n",
       "  </tbody>\n",
       "</table>\n",
       "<p>78579 rows × 2 columns</p>\n",
       "</div>"
      ],
      "text/plain": [
       "            name                                  text_preprocessed\n",
       "0      8086/2022  Z0FBQUFBQmtTeWxNbEpBNS1sZ1Rwem9TQktDeEdMdEdGQ3...\n",
       "1      8085/2022  Z0FBQUFBQmtTeWxNOTZZY19iYmtTMDNiWVFIRDNQa0w4eE...\n",
       "2      8081/2022  Z0FBQUFBQmtTeWxNR3dLUUZ3SlgyWlZReE91cnhzanlSSz...\n",
       "3      8079/2022  Z0FBQUFBQmtTeWxNdU1UUjBnek5WSFhrT2d2Q0xBQ3lpaU...\n",
       "4      8078/2022  Z0FBQUFBQmtTeWxNV0tKcFNSTEVycUtNYVhLeU1yUk9xOW...\n",
       "...          ...                                                ...\n",
       "78574    11/2003  Z0FBQUFBQmtTeWxFalZLMFgzVk5BZERJTXJzSk9UZVpzeV...\n",
       "78575    10/2003  Z0FBQUFBQmtTeWxFRUtseDlUSE15dEhxVF93SENXY0ZVTT...\n",
       "78576     9/2003  Z0FBQUFBQmtTeWxFU3pZekx2dEF3ZkE5SFlhdDJEQzhMOW...\n",
       "78577     5/2003  Z0FBQUFBQmtTeWxFY2JLVmdWYTE5anFqZm9ITktROWlYal...\n",
       "78578     2/2003  Z0FBQUFBQmtTeWxFMlM2M3k3aDAwU3NMWmxJUUxfeFEySl...\n",
       "\n",
       "[78579 rows x 2 columns]"
      ]
     },
     "execution_count": 8,
     "metadata": {},
     "output_type": "execute_result"
    }
   ],
   "source": [
    "# Solicitações\n",
    "#SELECT_SOLICITACOES = 'SELECT ' + (f'TOP {TOP_ST} ' if TOP_ST > 0 else '') + 'name, text_preprocessed FROM Ulysses_U3_solicitacao where code <= 1169671 ORDER BY code desc'\n",
    "\n",
    "logging.info('')\n",
    "logging.info('Lendo base de solicitações...')\n",
    "\n",
    "base_solicitacoes = pd.read_csv('../data/solicitacoes_ate_code_1169671.csv')\n",
    "print(base_solicitacoes.shape)\n",
    "base_solicitacoes"
   ]
  },
  {
   "cell_type": "code",
   "execution_count": 9,
   "id": "27349929",
   "metadata": {},
   "outputs": [],
   "source": [
    "queries_fb['extra_results'].fillna('[]', inplace=True)"
   ]
  },
  {
   "cell_type": "code",
   "execution_count": 10,
   "id": "a14ab28d",
   "metadata": {
    "tags": []
   },
   "outputs": [],
   "source": [
    "LEI_REGEX1 = re.compile(r'\"LEI .*?\"\\s*,\\s*')\n",
    "LEI_REGEX2 = re.compile(r'\\s*,?\\s*\"LEI .*?\"')\n",
    "ST_REGEX1 = re.compile(r'\"(ST )?\\s*\\d.*?\"\\s*,\\s*')\n",
    "ST_REGEX2 = re.compile(r'\"\\s*,?\\s*(ST )?\\s*\\d.*?\"')\n",
    "queries_fb['qt_extra_pr'] = queries_fb['extra_results'].str.replace(LEI_REGEX1, '', regex=True).replace(LEI_REGEX2, '', regex=True).replace(ST_REGEX1, '', regex=True).replace(ST_REGEX2, '', regex=True).apply(lambda txt: len(eval(txt)))\n",
    "\n",
    "PR_REGEX1 = re.compile(r'\"\\w+ .*?\"\\s*,\\s*')\n",
    "PR_REGEX2 = re.compile(r'\\s*,?\\s*\"\\w+ .*?\"')\n",
    "queries_fb['qt_extra_st'] = queries_fb['extra_results'].str.replace('ST ', '').replace(PR_REGEX1, '', regex=True).replace(PR_REGEX2, '', regex=True).apply(lambda txt: len(eval(txt)))"
   ]
  },
  {
   "cell_type": "code",
   "execution_count": 11,
   "id": "e95ecb32",
   "metadata": {
    "tags": []
   },
   "outputs": [],
   "source": [
    "################################\n",
    "# Pré-tratamento dos feedbacks #\n",
    "################################\n",
    "\n",
    "logging.info('')\n",
    "logging.info('Pré-tratamento dos feedbacks...')"
   ]
  },
  {
   "cell_type": "code",
   "execution_count": 12,
   "id": "42808370",
   "metadata": {
    "tags": []
   },
   "outputs": [],
   "source": [
    "# Cria as colunas user_feedback_pr e user_feedback_st (separa proposições e solicitações, pois estão juntas no user_feedback)\n",
    "def separa_feedbacks(feedbacks):\n",
    "\n",
    "    lst_feedback_pr = []\n",
    "    lst_feedback_st = []\n",
    "\n",
    "    for feedback in eval(feedbacks):\n",
    "        if feedback['tipo'] == 'PR':\n",
    "            lst_feedback_pr.append(feedback)\n",
    "        elif feedback['tipo'] == 'ST':\n",
    "            lst_feedback_st.append(feedback)\n",
    "        else:\n",
    "            logging.info('Erro de tipo de feedback.')\n",
    "                \n",
    "    return lst_feedback_pr, len(lst_feedback_pr), lst_feedback_st, len(lst_feedback_st)"
   ]
  },
  {
   "cell_type": "code",
   "execution_count": 13,
   "id": "2d943f01",
   "metadata": {
    "tags": []
   },
   "outputs": [],
   "source": [
    "queries_fb['user_feedback_pr'], queries_fb['count_feedback_pr'], queries_fb['user_feedback_st'], queries_fb['count_feedback_st'] = zip(*queries_fb['user_feedback'].apply(separa_feedbacks))\n",
    "queries_fb = queries_fb.drop('user_feedback', axis=1)"
   ]
  },
  {
   "cell_type": "code",
   "execution_count": 14,
   "id": "6c135feb",
   "metadata": {
    "tags": []
   },
   "outputs": [],
   "source": [
    "# Altera tipos de colunas\n",
    "queries_fb.user_feedback_pr = queries_fb.user_feedback_pr.astype(str)\n",
    "queries_fb.user_feedback_st = queries_fb.user_feedback_st.astype(str)"
   ]
  },
  {
   "cell_type": "code",
   "execution_count": 15,
   "id": "64b2c306",
   "metadata": {
    "tags": []
   },
   "outputs": [],
   "source": [
    "# Separa queries_fb em queries_pr (para proposições) e queries_st (para solicitações)\n",
    "# queries_pr = queries_fb.copy()[['query', 'user_feedback_pr', 'count_feedback_pr']]\n",
    "queries_pr = queries_fb.copy()[['query', 'user_feedback_pr', 'count_feedback_pr', 'qt_extra_pr']] #Incluído a variável qt_extra_pr\n",
    "queries_pr.columns = ['query', 'user_feedback', 'count_feedback', 'qt_extra']\n",
    "# queries_st = queries_fb.copy()[['query', 'user_feedback_st', 'count_feedback_st']]\n",
    "queries_st = queries_fb.copy()[['query', 'user_feedback_st', 'count_feedback_st', 'qt_extra_st']] #Incluído a variável qt_extra_st\n",
    "queries_st.columns = ['query', 'user_feedback', 'count_feedback', 'qt_extra']"
   ]
  },
  {
   "cell_type": "code",
   "execution_count": 16,
   "id": "ffe943fc",
   "metadata": {
    "tags": []
   },
   "outputs": [],
   "source": [
    "# deleta queries_fb para liberar espaço de memória\n",
    "del queries_fb\n",
    "gc.collect();"
   ]
  },
  {
   "cell_type": "code",
   "execution_count": 17,
   "id": "e62ac159",
   "metadata": {
    "tags": []
   },
   "outputs": [
    {
     "data": {
      "text/plain": [
       "(703, 6)"
      ]
     },
     "execution_count": 17,
     "metadata": {},
     "output_type": "execute_result"
    }
   ],
   "source": [
    "# Separa proposições relevantes\n",
    "pr_relevantes = []\n",
    "pr_pouco_relevantes = []\n",
    "for i in range(len(queries_pr[\"user_feedback\"])):\n",
    "    relevantes = []\n",
    "    pouco_relevantes = []\n",
    "    for doc in eval(queries_pr[\"user_feedback\"][i]):\n",
    "        if doc['class'] == 'r':\n",
    "            relevantes.append(doc['id'])\n",
    "        elif doc['class'] == 'pr':\n",
    "            pouco_relevantes.append(doc['id'])\n",
    "            \n",
    "    pr_relevantes.append(relevantes)\n",
    "    pr_pouco_relevantes.append(pouco_relevantes)\n",
    "\n",
    "queries_pr = queries_pr.assign(relevantes = pr_relevantes, pouco_relevantes = pr_pouco_relevantes)\n",
    "queries_pr.shape"
   ]
  },
  {
   "cell_type": "code",
   "execution_count": 18,
   "id": "e66686b4",
   "metadata": {
    "tags": []
   },
   "outputs": [
    {
     "data": {
      "text/plain": [
       "(703, 6)"
      ]
     },
     "execution_count": 18,
     "metadata": {},
     "output_type": "execute_result"
    }
   ],
   "source": [
    "# Separa solicitações relevantes\n",
    "st_relevantes = []\n",
    "st_pouco_relevantes = []\n",
    "for i in range(len(queries_st[\"user_feedback\"])):\n",
    "    relevantes = []\n",
    "    pouco_relevantes = []\n",
    "    for doc in eval(queries_st[\"user_feedback\"][i]):\n",
    "        if doc['class'] == 'r':\n",
    "            relevantes.append(doc['id'])\n",
    "        elif doc['class'] == 'pr':\n",
    "            pouco_relevantes.append(doc['id'])\n",
    "            \n",
    "    st_relevantes.append(relevantes)\n",
    "    st_pouco_relevantes.append(pouco_relevantes)\n",
    "\n",
    "queries_st = queries_st.assign(relevantes = st_relevantes, pouco_relevantes = st_pouco_relevantes)\n",
    "queries_st.shape"
   ]
  },
  {
   "cell_type": "code",
   "execution_count": 19,
   "id": "93d3e3f7",
   "metadata": {
    "tags": []
   },
   "outputs": [
    {
     "data": {
      "text/plain": [
       "(672, 6)"
      ]
     },
     "execution_count": 19,
     "metadata": {},
     "output_type": "execute_result"
    }
   ],
   "source": [
    "# Dropa queries sem proposições relevantes/poucoRelevantes e sem extra_results\n",
    "for i in range(len(queries_pr.values)):\n",
    "    # if str(queries_pr[\"relevantes\"][i]) == \"[]\":\n",
    "    if str(queries_pr[\"relevantes\"][i]) == \"[]\" and str(queries_pr[\"pouco_relevantes\"][i]) == \"[]\" and queries_pr[\"qt_extra\"][i] == 0: #Filtro alterado para levar em consideração os registros das colunas relevantes e qt_extra que estiverem vazio ou valor 0\n",
    "    # if queries_pr[(queries_pr.relevantes.str.len() == 0) & (queries_pr.qt_extra == 0)]:\n",
    "        queries_pr = queries_pr.drop(i)\n",
    "\n",
    "queries_pr = queries_pr.reset_index(drop=True)\n",
    "queries_pr.shape"
   ]
  },
  {
   "cell_type": "code",
   "execution_count": 20,
   "id": "39444483",
   "metadata": {
    "tags": []
   },
   "outputs": [
    {
     "data": {
      "text/plain": [
       "(664, 6)"
      ]
     },
     "execution_count": 20,
     "metadata": {},
     "output_type": "execute_result"
    }
   ],
   "source": [
    "# Dropa queries sem solicitações relevantes/poucoRelevantes e sem extra_results\n",
    "for i in range(len(queries_st.values)):\n",
    "    # if str(queries_st[\"relevantes\"][i]) == \"[]\":\n",
    "    if str(queries_st[\"relevantes\"][i]) == \"[]\" and str(queries_st[\"pouco_relevantes\"][i]) == \"[]\" and queries_st[\"qt_extra\"][i] == 0: #Filtro alterado para levar em consideração os registros das colunas relevantes e qt_extra que estiverem vazio ou valor 0\n",
    "        queries_st = queries_st.drop(i)\n",
    "\n",
    "queries_st = queries_st.reset_index(drop=True)\n",
    "queries_st.shape"
   ]
  },
  {
   "cell_type": "code",
   "execution_count": 21,
   "id": "7e648f1c",
   "metadata": {
    "tags": []
   },
   "outputs": [
    {
     "data": {
      "text/plain": [
       "['ofici', '1416', 'sf', 'brasili', '17']"
      ]
     },
     "execution_count": 21,
     "metadata": {},
     "output_type": "execute_result"
    }
   ],
   "source": [
    "#################################\n",
    "# Pré-tratamento de proposições #\n",
    "#################################\n",
    "\n",
    "logging.info('Pré-tratamento de proposições...')\n",
    "proposicoes_preprocessed = base_proposicoes[[\"name\", \"text_preprocessed\"]]\n",
    "base_preprocessada_pr = [eval(doc) for doc in proposicoes_preprocessed[\"text_preprocessed\"]]\n",
    "base_preprocessada_pr[0][:5]"
   ]
  },
  {
   "cell_type": "code",
   "execution_count": 22,
   "id": "d031dc93",
   "metadata": {
    "tags": []
   },
   "outputs": [
    {
     "data": {
      "text/plain": [
       "['solicit', 'avaliaca', 'critic', 'minut', 'pl']"
      ]
     },
     "execution_count": 22,
     "metadata": {},
     "output_type": "execute_result"
    }
   ],
   "source": [
    "##################################\n",
    "# Pré-tratamento de solicitações #|\n",
    "##################################\n",
    "\n",
    "logging.info('Pré-tratamento de solicitações...')\n",
    "\n",
    "# Desencriptar as STs\n",
    "net = Fernet(crypt_key.encode())\n",
    "net2 = Fernet(crypt_key)\n",
    "base_solicitacoes['decrypted_tokens'] = base_solicitacoes.text_preprocessed.apply(lambda x: net.decrypt(base64.b64decode(x)).decode('utf-8'))\n",
    "\n",
    "# Processar as STs\n",
    "solicitacoes_preprocessed = base_solicitacoes[[\"name\", \"decrypted_tokens\"]]\n",
    "base_preprocessada_st = [eval(doc) for doc in solicitacoes_preprocessed[\"decrypted_tokens\"]]\n",
    "base_preprocessada_st[0][:5]"
   ]
  },
  {
   "cell_type": "code",
   "execution_count": 23,
   "id": "03fc2289",
   "metadata": {},
   "outputs": [],
   "source": [
    "###########\n",
    "# Logging #\n",
    "###########\n",
    "\n",
    "logging.info('')\n",
    "logging.info(f'Base de feedbacks (proposições) após o pré-tratamento: Shape = {queries_pr.shape}')\n",
    "logging.info(f'Base de feedbacks (solicitações) após o pré-tratamento: Shape = {queries_st.shape}')\n",
    "\n",
    "logging.info('')\n",
    "logging.info(f'Tamanho da base de proposições a carregar no modelo BM25L: {len(base_preprocessada_pr)}')\n",
    "logging.info(f'Tamanho da base de solicitações a carregar no modelo BM25L: {len(base_preprocessada_st)}')"
   ]
  },
  {
   "cell_type": "code",
   "execution_count": 24,
   "id": "1060e0af",
   "metadata": {},
   "outputs": [],
   "source": [
    "###################\n",
    "# Carrega modelos #\n",
    "###################\n",
    "\n",
    "# Carrega proposições\n",
    "logging.info('')\n",
    "logging.info('Carregando modelo BM25L (proposições)...')\n",
    "bm25L_pr = BM25L(base_preprocessada_pr)\n",
    "\n",
    "# Carrega solicitações\n",
    "logging.info('Carregando modelo BM25L (solicitações)...')\n",
    "bm25L_st = BM25L(base_preprocessada_st)"
   ]
  },
  {
   "cell_type": "code",
   "execution_count": 25,
   "id": "afb34797",
   "metadata": {},
   "outputs": [],
   "source": [
    "def expand_query(query):\n",
    "    url_expand_query = 'https://expand-query-api.camara.leg.br'\n",
    "    session = requests.Session()\n",
    "    session.trust_env = False\n",
    "    resp = session.post(url_expand_query, json={\"query\": query})\n",
    "    if (resp.status_code == 200):\n",
    "        return json.loads(resp.content)[\"query\"]\n",
    "    return query"
   ]
  },
  {
   "cell_type": "code",
   "execution_count": 26,
   "id": "0d38c73e",
   "metadata": {},
   "outputs": [
    {
     "name": "stdout",
     "output_type": "stream",
     "text": [
      "CPU times: total: 46min 31s\n",
      "Wall time: 47min 52s\n"
     ]
    }
   ],
   "source": [
    "%%time\n",
    "\n",
    "expansion = True\n",
    "\n",
    "############################################################################\n",
    "# Calcula scores e lambdas para todos os documentos, para todas as queries #\n",
    "############################################################################\n",
    "\n",
    "MAX_K = 12 # Define max(k) para o cálculo das métricas precision@k, recall@k\n",
    "\n",
    "# Define cut e delta\n",
    "\n",
    "# EXECUTAR PRIMEIRO cut = 1.0 e delta = 1.0 (baseline)\n",
    "# cut_list = [0.1, 0.2, 0.3, 0.4, 0.5, 0.6, 0.7, 0.8, 0.9]\n",
    "# delta_list = [0.1, 0.5, 1.0, 1.5, 2.0, 5.0, 10.0]\n",
    "\n",
    "# Cut e delta para proposições\n",
    "cut_pr = 0.4 #0.6\n",
    "delta_pr = 0.1 #0.7\n",
    "\n",
    "# Cut e delta para solicitações\n",
    "cut_st = cut_pr\n",
    "delta_st = delta_pr\n",
    "\n",
    "# Calcula os scores e lambdas \n",
    "\n",
    "labels_pr = []\n",
    "labels_st = []\n",
    "\n",
    "for i in range(2):\n",
    "    \n",
    "    # inicializa os ponteiros\n",
    "\n",
    "    if i == 0: # proposições\n",
    "        logging.info('')\n",
    "        logging.info('Calculando scores e lambdas das proposições, para todas as queries...')\n",
    "                \n",
    "        # hiperparâmetros do modelo\n",
    "        cut = cut_pr\n",
    "        delta = delta_pr\n",
    "\n",
    "        # estruturas de dados\n",
    "        labels_all = labels_pr\n",
    "        queries_fb = queries_pr\n",
    "        bm25L = bm25L_pr\n",
    "        preprocessed_base = proposicoes_preprocessed\n",
    "\n",
    "    else: # solicitações\n",
    "        \n",
    "        logging.info('')\n",
    "        logging.info('Calculando scores e lambdas das solicitações, para todas as queries...')\n",
    "                \n",
    "        # hiperparâmetros do modelo\n",
    "        cut = cut_st\n",
    "        delta = delta_st\n",
    "\n",
    "        # estruturas de dados\n",
    "        labels_all = labels_st\n",
    "        queries_fb = queries_st\n",
    "        bm25L = bm25L_st\n",
    "        preprocessed_base = solicitacoes_preprocessed\n",
    "\n",
    "        # processa os cálculos\n",
    "\n",
    "    n_queries = len(queries_fb)\n",
    "    prev_progress_msg = ''\n",
    "        \n",
    "    for doc in range(n_queries):\n",
    "        base_teste = queries_fb.iloc[doc]\n",
    "        base_treino = queries_fb.drop(doc)\n",
    "                \n",
    "        arr_teste = base_teste.to_numpy()\n",
    "        X, y = arr_teste[0], arr_teste[1] # X = queries; y = lista de feedbacks\n",
    "        if expansion:\n",
    "            X = expand_query(X)\n",
    "        tokenized_query = preprocess(X) # tokeniza a query\n",
    "                \n",
    "        # calcula os scores para todos os documentos da base, com relação à query Q = tokenized_query\n",
    "        if i == 0: # proposições\n",
    "            scores = bm25L.get_partial_score(tokenized_query, preprocessed_base[\"text_preprocessed\"])\n",
    "        else: # solicitações\n",
    "            scores = bm25L.get_partial_score(tokenized_query, preprocessed_base[\"decrypted_tokens\"])\n",
    "        # abaixo, normaliza os scores\n",
    "        scores_norm = (scores - np.min(scores)) / (np.max(scores) - np.min(scores))\n",
    "\n",
    "        if cut == 1.0:\n",
    "            \n",
    "            # Para cut == 1.0 não calcula os lambdas, pq a similaridade entre queries não pode ser superior a 1.0\n",
    "                    \n",
    "            top_n = bm25L.get_top_n_score(scores_norm, preprocessed_base, n=MAX_K) # pega os MAX_K primeiros scores\n",
    "                    \n",
    "        else:\n",
    "            \n",
    "            # Aqui, calcula o lambda para cut < 1.0\n",
    "                    \n",
    "            with warnings.catch_warnings():\n",
    "                warnings.simplefilter('ignore')\n",
    "                lambdas = bm25L.lambda_calc(base_treino, X, cut=cut, delta=delta)\n",
    "                \n",
    "            # Altera os scores para considerar o lambda (bônus para documentos marcados como relevantes em queries similares)\n",
    "                \n",
    "            new_scores = bm25L.lambda_update(scores_norm, lambdas, preprocessed_base)\n",
    "            top_n = bm25L.get_top_n_score(new_scores, preprocessed_base, n=MAX_K)\n",
    "                \n",
    "        # armazena, em labels_all, os ids dos documentos que receberam os maiores scores (top_n=12) \n",
    "        # relacionados à query corrente \n",
    "        labels_all.append(copy.deepcopy(top_n))\n",
    "                \n",
    "        # progresso dos cálculos\n",
    "        pct = int((doc/n_queries)*100)\n",
    "        if pct in [25, 50, 75, 95]:\n",
    "            progress_msg = f'Progresso: {pct}%'\n",
    "            if progress_msg != prev_progress_msg: \n",
    "                logging.info(progress_msg)\n",
    "                prev_progress_msg = progress_msg\n",
    "\n",
    "# limpa os ponteiros para evitar erros no restante do código\n",
    "cut = None\n",
    "delta = None\n",
    "labels_all = None\n",
    "queries_fb = None\n",
    "bm25L = None\n",
    "preprocessed_base = None"
   ]
  },
  {
   "cell_type": "code",
   "execution_count": 27,
   "id": "a0bb6057",
   "metadata": {},
   "outputs": [
    {
     "data": {
      "text/plain": [
       "datetime.datetime(2023, 5, 18, 10, 40, 26, 724751)"
      ]
     },
     "execution_count": 27,
     "metadata": {},
     "output_type": "execute_result"
    }
   ],
   "source": [
    "import datetime\n",
    "db_date = datetime.datetime.now()\n",
    "db_date"
   ]
  },
  {
   "cell_type": "code",
   "execution_count": 28,
   "id": "5e4448f3",
   "metadata": {},
   "outputs": [],
   "source": [
    "#####################\n",
    "# Calcular métricas #\n",
    "#####################\n",
    "\n",
    "logging.info('')\n",
    "logging.info('Calculando métricas...')\n",
    "\n",
    "# Proposições\n",
    "resultados_pr = {}\n",
    "resultados_pr['data'] = db_date\n",
    "resultados_pr['tipo_doc'] = 'proposições'\n",
    "resultados_pr['cut'] = [cut_pr,]\n",
    "resultados_pr['delta'] = [delta_pr,]\n",
    "\n",
    "# Solicitações \n",
    "resultados_st = {}\n",
    "resultados_st['data'] = db_date\n",
    "resultados_st['tipo_doc'] = 'solicitações'\n",
    "resultados_st['cut'] = [cut_st,]\n",
    "resultados_st['delta'] = [delta_st,]"
   ]
  },
  {
   "cell_type": "code",
   "execution_count": 29,
   "id": "7377d32c",
   "metadata": {
    "tags": []
   },
   "outputs": [
    {
     "name": "stdout",
     "output_type": "stream",
     "text": [
      "{'data': datetime.datetime(2023, 5, 18, 10, 40, 26, 724751), 'tipo_doc': 'proposições', 'cut': [0.4], 'delta': [0.1]}\n",
      "{'data': datetime.datetime(2023, 5, 18, 10, 40, 26, 724751), 'tipo_doc': 'solicitações', 'cut': [0.4], 'delta': [0.1]}\n"
     ]
    }
   ],
   "source": [
    "print(resultados_pr)\n",
    "print(resultados_st)"
   ]
  },
  {
   "cell_type": "code",
   "execution_count": 30,
   "id": "23331644",
   "metadata": {
    "tags": []
   },
   "outputs": [
    {
     "data": {
      "text/plain": [
       "((672, 6), (664, 6))"
      ]
     },
     "execution_count": 30,
     "metadata": {},
     "output_type": "execute_result"
    }
   ],
   "source": [
    "queries_pr.shape, queries_st.shape"
   ]
  },
  {
   "cell_type": "code",
   "execution_count": 31,
   "id": "6965cb0f",
   "metadata": {},
   "outputs": [],
   "source": [
    "#############\n",
    "# Precision #\n",
    "#############\n",
    "\n",
    "results_precision_pr = metrics.calcula_precision(queries_pr, labels_pr, MAX_K)\n",
    "results_precision_st = metrics.calcula_precision(queries_st, labels_st, MAX_K)\n",
    "\n",
    "for k in results_precision_pr:\n",
    "    resultados_pr['p@' + str(k)] = [results_precision_pr[k],]\n",
    "\n",
    "for k in results_precision_st:\n",
    "    resultados_st['p@' + str(k)] = [results_precision_st[k],]"
   ]
  },
  {
   "cell_type": "code",
   "execution_count": 32,
   "id": "0b4e632f",
   "metadata": {},
   "outputs": [],
   "source": [
    "##########\n",
    "# Recall #\n",
    "##########\n",
    "\n",
    "results_recall_pr = metrics.calcula_recall(queries_pr, labels_pr, MAX_K)\n",
    "results_recall_st = metrics.calcula_recall(queries_st, labels_st, MAX_K)\n",
    "\n",
    "for k in results_recall_pr:\n",
    "    resultados_pr['r@' + str(k)] = [results_recall_pr[k],]\n",
    "\n",
    "for k in results_recall_st:\n",
    "    resultados_st['r@' + str(k)] = [results_recall_st[k],]"
   ]
  },
  {
   "cell_type": "code",
   "execution_count": 33,
   "id": "6e101289",
   "metadata": {},
   "outputs": [],
   "source": [
    "#########################################################\n",
    "# Average Precision (AP) e Mean Average Precision (MAP) #\n",
    "#########################################################\n",
    "\n",
    "lista_avg_precision_pr = metrics.calcula_lista_avg_precision(queries_pr, labels_pr)\n",
    "avg_precision_pr = metrics.calcula_avg_precision(queries_pr, lista_avg_precision_pr)\n",
    "resultados_pr['map'] = [np.mean(avg_precision_pr),] # calcula MAP (mean average precision) para proposições\n",
    "\n",
    "lista_avg_precision_st = metrics.calcula_lista_avg_precision(queries_st, labels_st)\n",
    "avg_precision_st = metrics.calcula_avg_precision(queries_st, lista_avg_precision_st)\n",
    "resultados_st['map'] = [np.mean(avg_precision_st),] # calcula MAP (mean average precision) para solicitações"
   ]
  },
  {
   "cell_type": "code",
   "execution_count": 34,
   "id": "9d463154",
   "metadata": {},
   "outputs": [],
   "source": [
    "################################################\n",
    "# R-Precision (RP) e Average R-Precision (ARP) #\n",
    "################################################\n",
    "\n",
    "lista_r_precision_pr = metrics.calcula_r_precision(queries_pr, labels_pr)\n",
    "resultados_pr['r-precision'] = [np.mean(lista_r_precision_pr),] # calcula ARP para proposições\n",
    "\n",
    "lista_r_precision_st = metrics.calcula_r_precision(queries_st, labels_st)\n",
    "resultados_st['r-precision'] = [np.mean(lista_r_precision_st),] # calcula ARP para solicitações"
   ]
  },
  {
   "cell_type": "code",
   "execution_count": 35,
   "id": "d6ad8395",
   "metadata": {},
   "outputs": [],
   "source": [
    "#####################################################\n",
    "# Reciprocal Rank (RR) e Mean Reciprocal Rank (MRR) #\n",
    "#####################################################\n",
    "\n",
    "RR_lista_pr = metrics.calcula_rr(lista_avg_precision_pr)\n",
    "resultados_pr['rr'] = [np.mean(RR_lista_pr),] # calcula MRR\n",
    "\n",
    "RR_lista_st = metrics.calcula_rr(lista_avg_precision_st)\n",
    "resultados_st['rr'] = [np.mean(RR_lista_st),] # calcula MRR"
   ]
  },
  {
   "cell_type": "code",
   "execution_count": 36,
   "id": "2033e27f",
   "metadata": {
    "tags": []
   },
   "outputs": [
    {
     "name": "stdout",
     "output_type": "stream",
     "text": [
      "\t data 2023-05-18 10:40:26.724751\n",
      "\t tipo_doc proposições\n",
      "\t cut [0.4]\n",
      "\t delta [0.1]\n",
      "\t p@1 [0.619345238095237]\n",
      "\t p@2 [0.5748511904761912]\n",
      "\t p@3 [0.5375992063492057]\n",
      "\t p@4 [0.509523809523811]\n",
      "\t p@5 [0.48624999999999946]\n",
      "\t p@6 [0.4656746031746031]\n",
      "\t p@7 [0.4459183673469385]\n",
      "\t p@8 [0.42756696428571495]\n",
      "\t p@9 [0.4107804232804236]\n",
      "\t p@10 [0.39392857142857124]\n",
      "\t p@11 [0.3787337662337662]\n",
      "\t p@12 [0.36426091269841293]\n",
      "\t r@1 [0.13266939004535455]\n",
      "\t r@2 [0.22985139971685375]\n",
      "\t r@3 [0.3108215808952314]\n",
      "\t r@4 [0.3802606111042171]\n",
      "\t r@5 [0.43625447425855896]\n",
      "\t r@6 [0.48801908439648356]\n",
      "\t r@7 [0.5389846323934583]\n",
      "\t r@8 [0.5788327668815573]\n",
      "\t r@9 [0.6159689417231082]\n",
      "\t r@10 [0.6493374351194197]\n",
      "\t r@11 [0.6819328934631362]\n",
      "\t r@12 [0.7141513942184636]\n",
      "\t map [0.6086357860114769]\n",
      "\t r-precision [0.4708244818484185]\n",
      "\t rr [0.6725966080876795]\n",
      "\n",
      "\n",
      "resultados Solicitações:\n",
      "\t data 2023-05-18 10:40:26.724751\n",
      "\t tipo_doc solicitações\n",
      "\t cut [0.4]\n",
      "\t delta [0.1]\n",
      "\t p@1 [0.5659638554216859]\n",
      "\t p@2 [0.49201807228915695]\n",
      "\t p@3 [0.4482931726907621]\n",
      "\t p@4 [0.41912650602409723]\n",
      "\t p@5 [0.3913855421686746]\n",
      "\t p@6 [0.3666666666666659]\n",
      "\t p@7 [0.35086058519793417]\n",
      "\t p@8 [0.3365963855421696]\n",
      "\t p@9 [0.3217536813922359]\n",
      "\t p@10 [0.31030120481927675]\n",
      "\t p@11 [0.2989320920043815]\n",
      "\t p@12 [0.28757530120481944]\n",
      "\t r@1 [0.1575366369475303]\n",
      "\t r@2 [0.24477515811643266]\n",
      "\t r@3 [0.3202327152076729]\n",
      "\t r@4 [0.3824335211903885]\n",
      "\t r@5 [0.4353812053567597]\n",
      "\t r@6 [0.482055232740902]\n",
      "\t r@7 [0.531577032909639]\n",
      "\t r@8 [0.5749184687115906]\n",
      "\t r@9 [0.6101224969765655]\n",
      "\t r@10 [0.6460760204609698]\n",
      "\t r@11 [0.6773005645707103]\n",
      "\t r@12 [0.7061376533907266]\n",
      "\t map [0.5577393773423044]\n",
      "\t r-precision [0.3994310737378868]\n",
      "\t rr [0.633928354109077]\n"
     ]
    }
   ],
   "source": [
    "for item in resultados_pr:\n",
    "    print('\\t', item, resultados_pr[item])\n",
    "print('\\n')\n",
    "print('resultados Solicitações:')\n",
    "for item in resultados_st:\n",
    "    print('\\t', item, resultados_st[item])"
   ]
  },
  {
   "cell_type": "code",
   "execution_count": 37,
   "id": "e6f45e24",
   "metadata": {},
   "outputs": [],
   "source": [
    "# #####################################\n",
    "# # Gravar métricas no banco de dados #\n",
    "# #####################################\n",
    "\n",
    "# SALVAR_METRICAS_BD = True\n",
    "\n",
    "# if SALVAR_METRICAS_BD:\n",
    "\n",
    "#     logging.info('')\n",
    "#     logging.info('Salvando métricas no BD...')\n",
    "\n",
    "#     # Primeiro, grava o monitoramento na tabela Ulysses_Monitoramento\n",
    "#     INSERT_MONITORING = 'INSERT Ulysses_Monitoramento ' \\\n",
    "#         '(nom_Sistema, txt_Modelo, arq_Dataset_Teste, txt_Mlflow_Uri, dat_execucao, json_indicadores) ' \\\n",
    "#         'VALUES (' \\\n",
    "#         f'\\'U3\\', \\'U3-BM25L\\', null, null, \\'{db_date}\\', null)'\n",
    "    \n",
    "#     # Monta o bloco de SQLs\n",
    "#     sql_block = ''\n",
    "#     sql_block += 'BEGIN\\n'\n",
    "#     sql_block += 'DECLARE @ident int = 0\\n'\n",
    "#     sql_block += f'{INSERT_MONITORING}\\n'\n",
    "#     sql_block += 'SELECT @ident = @@IDENTITY\\n'\n",
    "\n",
    "#     # Depois, insere as métricas na tabela Ulysses_MonitoramentoResultados\n",
    "#     lst_metrics = ['u3-map-pr', 'u3-arp-pr', 'u3-mrr-pr', 'u3-map-st', 'u3-arp-st', 'u3-mrr-st']\n",
    "#     lst_values = [resultados_pr[\"map\"], resultados_pr[\"r-precision\"], resultados_pr[\"rr\"], resultados_st[\"map\"], resultados_st[\"r-precision\"], \\\n",
    "#         resultados_st[\"rr\"]]\n",
    "#     #\n",
    "#     for metric, value in zip(lst_metrics, lst_values):\n",
    "\n",
    "#         INSERT_METRICS = 'INSERT Ulysses_MonitoramentoResultados ' \\\n",
    "#             '(seq_Monitoramento, nom_Indicador, vlr_Indicador) ' \\\n",
    "#             f'SELECT @ident, \\'{metric}\\', {value[0]}' \n",
    "        \n",
    "#         sql_block += f'{INSERT_METRICS}\\n'\n",
    "#     #\n",
    "#     sql_block += 'END'\n",
    "#     #\n",
    "#     mssql_hook.run(sql_block) # executa bloco de comandos SQL"
   ]
  },
  {
   "cell_type": "code",
   "execution_count": 38,
   "id": "58c8d9e8",
   "metadata": {},
   "outputs": [
    {
     "name": "stdout",
     "output_type": "stream",
     "text": [
      "### Resultados para proposições #############################\n",
      "Precision (P@12): [0.36426091269841293]\n",
      "Recall (R@12): [0.7141513942184636]\n",
      "Average R-Precision (ARP): [0.4708244818484185]\n",
      "Mean Average Precision (MAP): [0.6086357860114769]\n",
      "Mean Reciprocal Rank (MRR): [0.6725966080876795]\n",
      "#############################################################\n",
      "### Resultados para solicitações ############################\n",
      "Precision (P@12): [0.28757530120481944]\n",
      "Recall (R@12): [0.7061376533907266]\n",
      "Average R-Precision (ARP): [0.3994310737378868]\n",
      "Mean Average Precision (MAP): [0.5577393773423044]\n",
      "Mean Reciprocal Rank (MRR): [0.633928354109077]\n",
      "#############################################################\n"
     ]
    }
   ],
   "source": [
    "######################\n",
    "# Mostrar resultados #\n",
    "######################\n",
    "\n",
    "# Proposições\n",
    "\n",
    "print('### Resultados para proposições #############################')\n",
    "print(f'Precision (P@12): {resultados_pr[\"p@12\"]}')\n",
    "print(f'Recall (R@12): {resultados_pr[\"r@12\"]}')\n",
    "print(f'Average R-Precision (ARP): {resultados_pr[\"r-precision\"]}')\n",
    "print(f'Mean Average Precision (MAP): {resultados_pr[\"map\"]}')\n",
    "print(f'Mean Reciprocal Rank (MRR): {resultados_pr[\"rr\"]}')\n",
    "print('#############################################################')\n",
    "\n",
    "# Solicitações\n",
    "\n",
    "print('### Resultados para solicitações ############################')\n",
    "print(f'Precision (P@12): {resultados_st[\"p@12\"]}')\n",
    "print(f'Recall (R@12): {resultados_st[\"r@12\"]}')\n",
    "print(f'Average R-Precision (ARP): {resultados_st[\"r-precision\"]}')\n",
    "print(f'Mean Average Precision (MAP): {resultados_st[\"map\"]}')\n",
    "print(f'Mean Reciprocal Rank (MRR): {resultados_st[\"rr\"]}')\n",
    "print('#############################################################')"
   ]
  },
  {
   "cell_type": "code",
   "execution_count": 39,
   "id": "2edaa5b9",
   "metadata": {},
   "outputs": [],
   "source": [
    "######################################\n",
    "# Salvar resultados detalhados no S3 #\n",
    "######################################\n",
    "\n",
    "# logging.info('')\n",
    "# logging.info('Salvando métricas no S3...')\n",
    "\n",
    "# # dataframes\n",
    "# df_results_pr = pd.DataFrame(resultados_pr)\n",
    "# df_results_st = pd.DataFrame(resultados_st)\n",
    "\n",
    "# # juntar dataframes\n",
    "# df_results = pd.concat([df_results_pr, df_results_st], ignore_index=True)\n",
    "\n",
    "# # apresentar resultados detalhados\n",
    "# logging.info('')\n",
    "# logging.info('Abaixo, resultados detalhados:')\n",
    "# logging.info(df_results.transpose())\n",
    "\n",
    "# # Ler CSV anterior em S3 para fazer o append dos resultados desta execução\n",
    "# s3_hook = S3Hook(aws_conn_id='s3_secid')\n",
    "# s3_bucket = 'secid.ulysses'\n",
    "# s3_key = 'u3/metricas/data/prd/metricas_bm25l.csv'\n",
    "\n",
    "# if s3_hook.check_for_key(key=s3_key, bucket_name=s3_bucket):\n",
    "#     # CSV já existe, concatena com o resultado desta execução\n",
    "#     file_csv = s3_hook.download_file(key=s3_key, bucket_name=s3_bucket) # faz o download\n",
    "#     prev_df = pd.read_csv(file_csv, encoding='utf-8')\n",
    "#     df_results = pd.concat([prev_df, df_results], ignore_index=True)\n",
    "#     # Salva CSV com os novos resultados\n",
    "#     df_results.to_csv(file_csv, encoding='utf-8', index=False)\n",
    "#     # Salva CSV em S3\n",
    "#     s3_hook.load_file(filename=file_csv, key=s3_key, bucket_name=s3_bucket, replace=True)\n",
    "# else:\n",
    "#     # Cria arquivo CSV\n",
    "#     with NamedTemporaryFile(\"w\") as f_csv:\n",
    "#         # Salva CSV com os novos resultados\n",
    "#         df_results.to_csv(f_csv.name, encoding='utf-8', index=False)\n",
    "#         # Salva CSV em S3\n",
    "#         s3_hook.load_file(filename=f_csv.name, key=s3_key, bucket_name=s3_bucket, replace=True)\n",
    "\n",
    "# return 0"
   ]
  },
  {
   "cell_type": "markdown",
   "id": "370089de",
   "metadata": {},
   "source": [
    "## Análise qualitativa"
   ]
  },
  {
   "cell_type": "code",
   "execution_count": 40,
   "id": "f9630b5e",
   "metadata": {},
   "outputs": [],
   "source": [
    "def top_pr(n, query_index, cut, delta):\n",
    "    return top(n, query_index, queries_pr, proposicoes_preprocessed, \"text_preprocessed\", bm25L_pr, cut=cut, delta=delta)\n",
    "\n",
    "def top_st(n, query_index, cut, delta):\n",
    "    return top(n, query_index, queries_st, solicitacoes_preprocessed, \"decrypted_tokens\", bm25L_st, cut=cut, delta=delta)\n",
    "\n",
    "def top(n, query_index, queries, preprocessed_base, base_col, bm25L, cut, delta):\n",
    "    base_teste = queries.iloc[query_index]\n",
    "    base_treino = queries.drop(query_index)\n",
    "    arr_teste = base_teste.to_numpy()\n",
    "    X, y = arr_teste[0], arr_teste[1] # X = queries; y = lista de feedbacks\n",
    "    qry = X\n",
    "    expanded_qry = None\n",
    "    if expansion:\n",
    "        expanded_qry = expand_query(X)\n",
    "        if X == expanded_qry:\n",
    "            expanded_qry = None\n",
    "        else:\n",
    "            X = expanded_qry\n",
    "    tokenized_query = preprocess(X) # tokeniza a query            \n",
    "    scores = bm25L.get_partial_score(tokenized_query, preprocessed_base[base_col])\n",
    "    scores_norm = (scores - np.min(scores)) / (np.max(scores) - np.min(scores))\n",
    "    if cut == 1.0:\n",
    "        top_n = bm25L.get_top_n_score(scores_norm, preprocessed_base, n=n)\n",
    "        lambdas = {}\n",
    "    else:\n",
    "        with warnings.catch_warnings():\n",
    "            warnings.simplefilter('ignore')\n",
    "            lambdas = bm25L.lambda_calc(base_treino, X, cut=cut, delta=delta)\n",
    "        new_scores = bm25L.lambda_update(scores_norm, lambdas, preprocessed_base)\n",
    "        top_n = bm25L.get_top_n_score(new_scores, preprocessed_base, n=n)\n",
    "    return qry, expanded_qry, lambdas, top_n"
   ]
  },
  {
   "cell_type": "code",
   "execution_count": 41,
   "id": "24fb69b5",
   "metadata": {},
   "outputs": [],
   "source": [
    "cut = 0.4 #0.6 na versão anterior\n",
    "delta = 0.1 #0.7 na versão anterior"
   ]
  },
  {
   "cell_type": "code",
   "execution_count": 42,
   "id": "e39340fe",
   "metadata": {},
   "outputs": [
    {
     "name": "stdout",
     "output_type": "stream",
     "text": [
      "Proposições similares: Solicito uma emenda ao PL 3041/2021 no sentido de criar mecanismos de acompanhamento e avaliação do Programa de Apoio ao Desenvolvimento Tecnológico da Indústria de Semicondutores - PADIS, instituído pela Lei nº 11.484, de 31 de maio de 2007.  Solicito uma emenda ao PL 3041/2021 no sentido de criar mecanismos de acompanhamento e avaliação do Programa de Apoio ao Desenvolvimento Tecnológico da Indústria de Semicondutores - PADIS, instituído pela Lei nº 11.484, de 31 de maio de 2007.  Institui a Semana Nacional das Práticas Integrativas e Complementares em Saúde. {} ['INC 3039/2017', 'INC 3038/2017', 'PL 719/2015', 'PL 2156/2007', 'PL 3130/2015', 'PL 4944/2019', 'PL 3041/2021', 'PL 3042/2021', 'PL 3863/2015', 'PL 2821/2019', 'INC 211/2019', 'PL 3682/2019']\n",
      "\n",
      "Proposições similares: Solicito Parecer, pela aprovação e adequação orçamentária, do PLP 108/2021. Deve conter substitutivo com correção do MEI e do Simples pelo IPCA, a partir da última atualização.  Solicito Parecer, pela aprovação e adequação orçamentária, do PLP 108/2021. Deve conter substitutivo com correção do MEI e do Simples pelo IPCA, a partir da última atualização.  Sugere o envio de expediente ao Ministério da Agricultura, Pecuária e Abastecimento para realizar aporte financeiro e orçamentário ao Programa Nacional de Fortalecimento da Agricultura Familiar – PRONAF – Investimento, do Plano Safra 2020/2021. Institui o recebimento de comunicação de violência doméstica e familiar contra a mulher, por intermédio de atendentes em farmácias e outros estabelecimentos comerciais e prestadores de serviços em todo território nacional e dá outras providências. Altera a Lei Complementar nº 123, de 14 de dezembro de 2006, para permitir o enquadramento como Microempreendedor Individual (MEI) de pessoa com receita bruta anual igual ou inferior a                     R$ 130.000,00 (cento e trinta mil reais), bem como para permitir que o MEI contrate até 2 (dois) empregados {} ['PLP 108/2021', 'INC 53/2020', 'INC 108/2021', 'PLP 32/2020', 'PLP 23/2020', 'PL 108/2021', 'PL 83/2021', 'PL 125/2020', 'PL 1695/2021', 'PLP 327/2016', 'PLP 6/2011', 'PLP 556/2010']\n",
      "\n",
      "CPU times: total: 26min 13s\n",
      "Wall time: 26min 48s\n"
     ]
    }
   ],
   "source": [
    "%%time\n",
    "for i in range(len(queries_pr)):\n",
    "    qry, expanded_qry, lambdas, top_n = top_pr(12, i, cut=cut, delta=delta)\n",
    "    if expanded_qry:\n",
    "        print('Proposições similares:', qry, expanded_qry, lambdas, top_n)\n",
    "        print()"
   ]
  },
  {
   "cell_type": "code",
   "execution_count": 43,
   "id": "bc079ab3",
   "metadata": {},
   "outputs": [
    {
     "name": "stdout",
     "output_type": "stream",
     "text": [
      "Solicitações similares: Solicito uma emenda ao PL 3041/2021 no sentido de criar mecanismos de acompanhamento e avaliação do Programa de Apoio ao Desenvolvimento Tecnológico da Indústria de Semicondutores - PADIS, instituído pela Lei nº 11.484, de 31 de maio de 2007.  Solicito uma emenda ao PL 3041/2021 no sentido de criar mecanismos de acompanhamento e avaliação do Programa de Apoio ao Desenvolvimento Tecnológico da Indústria de Semicondutores - PADIS, instituído pela Lei nº 11.484, de 31 de maio de 2007.  Institui a Semana Nacional das Práticas Integrativas e Complementares em Saúde. {} ['23181/2019', '8584/2019', '25151/2019', '5079/2011', '14865/2007', '14369/2007', '6520/2008', '6694/2010', '5105/2009', '7830/2010', '6154/2020', '15838/2021']\n",
      "\n",
      "Solicitações similares: Solicito Parecer, pela aprovação e adequação orçamentária, do PLP 108/2021. Deve conter substitutivo com correção do MEI e do Simples pelo IPCA, a partir da última atualização.  Solicito Parecer, pela aprovação e adequação orçamentária, do PLP 108/2021. Deve conter substitutivo com correção do MEI e do Simples pelo IPCA, a partir da última atualização.  Sugere o envio de expediente ao Ministério da Agricultura, Pecuária e Abastecimento para realizar aporte financeiro e orçamentário ao Programa Nacional de Fortalecimento da Agricultura Familiar – PRONAF – Investimento, do Plano Safra 2020/2021. Institui o recebimento de comunicação de violência doméstica e familiar contra a mulher, por intermédio de atendentes em farmácias e outros estabelecimentos comerciais e prestadores de serviços em todo território nacional e dá outras providências. Altera a Lei Complementar nº 123, de 14 de dezembro de 2006, para permitir o enquadramento como Microempreendedor Individual (MEI) de pessoa com receita bruta anual igual ou inferior a                     R$ 130.000,00 (cento e trinta mil reais), bem como para permitir que o MEI contrate até 2 (dois) empregados {} ['1464/2021', '2880/2012', '10860/2012', '4805/2013', '20846/2021', '186/2006', '4051/2014', '14036/2014', '5314/2012', '113/2012', '5551/2003', '10861/2011']\n",
      "\n",
      "CPU times: total: 19min 42s\n",
      "Wall time: 20min 14s\n"
     ]
    }
   ],
   "source": [
    "%%time\n",
    "for i in range(len(queries_st)):\n",
    "    qry, expanded_qry, lambdas, top_n = top_st(12, i, cut=cut, delta=delta)\n",
    "    if expanded_qry:\n",
    "        print('Solicitações similares:', qry, expanded_qry, lambdas, top_n)\n",
    "        print()"
   ]
  },
  {
   "cell_type": "code",
   "execution_count": null,
   "id": "cedca488",
   "metadata": {},
   "outputs": [],
   "source": []
  }
 ],
 "metadata": {
  "kernelspec": {
   "display_name": "Python 3 (ipykernel)",
   "language": "python",
   "name": "python3"
  },
  "language_info": {
   "codemirror_mode": {
    "name": "ipython",
    "version": 3
   },
   "file_extension": ".py",
   "mimetype": "text/x-python",
   "name": "python",
   "nbconvert_exporter": "python",
   "pygments_lexer": "ipython3",
   "version": "3.10.10"
  }
 },
 "nbformat": 4,
 "nbformat_minor": 5
}
